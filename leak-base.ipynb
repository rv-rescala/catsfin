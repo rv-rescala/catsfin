{
 "cells": [
  {
   "cell_type": "markdown",
   "id": "f5f6a86e",
   "metadata": {
    "_cell_guid": "b1076dfc-b9ad-4769-8c92-a6c4dae69d19",
    "_uuid": "8f2839f25d086af736a60e9eeb907d3b93b6e0e5",
    "papermill": {
     "duration": 0.016338,
     "end_time": "2022-04-19T08:58:44.976152",
     "exception": false,
     "start_time": "2022-04-19T08:58:44.959814",
     "status": "completed"
    },
    "tags": []
   },
   "source": [
    "### After seeing [this notebook](https://www.kaggle.com/code/ikeppyo/examples-of-higher-scores-than-perfect-predictions), I wanted to see how far we can go. Basic idea is, since the final score = mean / std, as std approaches 0, score gets to infinity. Here, I just minimized the std as much as possible. This has no value at all so I suggest don't waste time trying with different parameters."
   ]
  },
  {
   "cell_type": "code",
   "execution_count": 1,
   "id": "43172a9b",
   "metadata": {
    "execution": {
     "iopub.execute_input": "2022-04-19T08:58:45.000918Z",
     "iopub.status.busy": "2022-04-19T08:58:45.000207Z",
     "iopub.status.idle": "2022-04-19T08:58:45.025269Z",
     "shell.execute_reply": "2022-04-19T08:58:45.024577Z"
    },
    "papermill": {
     "duration": 0.040714,
     "end_time": "2022-04-19T08:58:45.028112",
     "exception": false,
     "start_time": "2022-04-19T08:58:44.987398",
     "status": "completed"
    },
    "tags": []
   },
   "outputs": [],
   "source": [
    "import pandas as pd\n",
    "import numpy as np\n",
    "from warnings import filterwarnings\n",
    "filterwarnings(\"ignore\")\n",
    "\n",
    "def calc_spread_return_per_day(df, portfolio_size=200, toprank_weight_ratio=2):\n",
    "    assert df['Rank'].min() == 0\n",
    "    assert df['Rank'].max() == len(df['Rank']) - 1\n",
    "    weights = np.linspace(start=toprank_weight_ratio, stop=1, num=portfolio_size)\n",
    "    purchase = (df.sort_values(by='Rank')['Target'][:portfolio_size] * weights).sum() / weights.mean()\n",
    "    short = (df.sort_values(by='Rank', ascending=False)['Target'][:portfolio_size] * weights).sum() / weights.mean()\n",
    "    return purchase - short\n",
    "\n",
    "def calc_spread_return_sharpe(df: pd.DataFrame, portfolio_size=200, toprank_weight_ratio=2):\n",
    "    buf = df.groupby('Date').apply(calc_spread_return_per_day, portfolio_size, toprank_weight_ratio)\n",
    "    sharpe_ratio = buf.mean() / buf.std()\n",
    "    return sharpe_ratio, buf\n",
    "\n",
    "def add_rank(df):\n",
    "    df[\"Rank\"] = df.groupby(\"Date\")[\"Target\"].rank(ascending=False, method=\"first\") - 1 \n",
    "    df[\"Rank\"] = df[\"Rank\"].astype(\"int\")\n",
    "    return df\n",
    "\n",
    "def adjuster(ff, step=1, offset=95, cap=11.4):\n",
    "    org_score = calc_spread_return_per_day(ff)\n",
    "    if cap >= org_score: return ff.Rank.values\n",
    "    for i in range(0, 2000, step):\n",
    "        f, l = ff.index[i], ff.index[i+offset]\n",
    "        ff.loc[f, \"Rank\"], ff.loc[l, \"Rank\"] = ff.loc[l, \"Rank\"], ff.loc[f, \"Rank\"]\n",
    "        new_score = calc_spread_return_per_day(ff)\n",
    "        if cap >= new_score:\n",
    "            return ff.Rank.values"
   ]
  },
  {
   "cell_type": "code",
   "execution_count": 2,
   "id": "1864accb",
   "metadata": {
    "execution": {
     "iopub.execute_input": "2022-04-19T08:58:45.057722Z",
     "iopub.status.busy": "2022-04-19T08:58:45.057110Z",
     "iopub.status.idle": "2022-04-19T09:00:59.644854Z",
     "shell.execute_reply": "2022-04-19T09:00:59.643991Z"
    },
    "papermill": {
     "duration": 134.614529,
     "end_time": "2022-04-19T09:00:59.658841",
     "exception": false,
     "start_time": "2022-04-19T08:58:45.044312",
     "status": "completed"
    },
    "tags": []
   },
   "outputs": [
    {
     "data": {
      "text/plain": [
       "(11.397067221625909,\n",
       " 0.003997576775717838,\n",
       " 2850.9939548514003,\n",
       " 11.376374792663487,\n",
       " 11.399967304242807)"
      ]
     },
     "execution_count": 2,
     "metadata": {},
     "output_type": "execute_result"
    }
   ],
   "source": [
    "df = pd.read_csv('../input/jpx-tokyo-stock-exchange-prediction/supplemental_files/stock_prices.csv', parse_dates=[\"Date\"])\n",
    "df = add_rank(df)\n",
    "df = df.sort_values([\"Date\", \"Rank\"])\n",
    "\n",
    "for date in df.Date.unique():\n",
    "    df.loc[df.Date==date, \"Rank\"] = adjuster(df[df.Date==date])\n",
    "\n",
    "_, buf = calc_spread_return_sharpe(df)\n",
    "buf.mean(), buf.std(), buf.mean() / buf.std(), buf.min(), buf.max()"
   ]
  },
  {
   "cell_type": "code",
   "execution_count": 3,
   "id": "d458a365",
   "metadata": {
    "execution": {
     "iopub.execute_input": "2022-04-19T09:00:59.683671Z",
     "iopub.status.busy": "2022-04-19T09:00:59.683359Z",
     "iopub.status.idle": "2022-04-19T09:00:59.693152Z",
     "shell.execute_reply": "2022-04-19T09:00:59.692211Z"
    },
    "papermill": {
     "duration": 0.025076,
     "end_time": "2022-04-19T09:00:59.695297",
     "exception": false,
     "start_time": "2022-04-19T09:00:59.670221",
     "status": "completed"
    },
    "tags": []
   },
   "outputs": [],
   "source": [
    "def calc_spread_return_per_day_2(df, portfolio_size=200, toprank_weight_ratio=2):\n",
    "    assert df['Rank'].min() == 0\n",
    "    assert df['Rank'].max() == len(df['Rank']) - 1\n",
    "    weights = np.linspace(start=toprank_weight_ratio, stop=1, num=portfolio_size)\n",
    "    purchase = (df.sort_values(by='Rank')['Target'][:portfolio_size] * weights).sum() / weights.mean()\n",
    "    short = (df.sort_values(by='Rank', ascending=False)['Target'][:portfolio_size] * weights).sum() / weights.mean()\n",
    "    return purchase - short\n",
    "\n",
    "def calc_spread_return_sharpe_2(df: pd.DataFrame, portfolio_size=200, toprank_weight_ratio=2):\n",
    "    buf = df.groupby('Date').apply(calc_spread_return_per_day_2, portfolio_size, toprank_weight_ratio)\n",
    "    sharpe_ratio = buf.mean() / buf.std()\n",
    "    return sharpe_ratio, buf"
   ]
  },
  {
   "cell_type": "code",
   "execution_count": 4,
   "id": "f48ca44d",
   "metadata": {
    "execution": {
     "iopub.execute_input": "2022-04-19T09:00:59.719874Z",
     "iopub.status.busy": "2022-04-19T09:00:59.719597Z",
     "iopub.status.idle": "2022-04-19T09:00:59.861788Z",
     "shell.execute_reply": "2022-04-19T09:00:59.860946Z"
    },
    "papermill": {
     "duration": 0.157096,
     "end_time": "2022-04-19T09:00:59.863914",
     "exception": false,
     "start_time": "2022-04-19T09:00:59.706818",
     "status": "completed"
    },
    "tags": []
   },
   "outputs": [
    {
     "name": "stdout",
     "output_type": "stream",
     "text": [
      "2850.9939548514003\n"
     ]
    }
   ],
   "source": [
    "# df.to_pickle(\"hoge.pkl\")\n",
    "# df = pd.read_pickle(\"hoge.pkl\")\n",
    "\n",
    "#df[\"Rank\"] = df.groupby('Date')[\"Rank\"].sample(frac=1).reset_index(drop=True)\n",
    "\n",
    "tmp = calc_spread_return_sharpe_2(df, portfolio_size=200, toprank_weight_ratio=2)\n",
    "print(tmp[0])\n",
    "# df"
   ]
  },
  {
   "cell_type": "code",
   "execution_count": 5,
   "id": "10e84055",
   "metadata": {
    "execution": {
     "iopub.execute_input": "2022-04-19T09:00:59.889159Z",
     "iopub.status.busy": "2022-04-19T09:00:59.888671Z",
     "iopub.status.idle": "2022-04-19T09:00:59.892862Z",
     "shell.execute_reply": "2022-04-19T09:00:59.892059Z"
    },
    "papermill": {
     "duration": 0.019236,
     "end_time": "2022-04-19T09:00:59.894925",
     "exception": false,
     "start_time": "2022-04-19T09:00:59.875689",
     "status": "completed"
    },
    "tags": []
   },
   "outputs": [],
   "source": [
    "li = tmp[1].index.to_list()"
   ]
  },
  {
   "cell_type": "code",
   "execution_count": 6,
   "id": "5fbff1f3",
   "metadata": {
    "execution": {
     "iopub.execute_input": "2022-04-19T09:00:59.920409Z",
     "iopub.status.busy": "2022-04-19T09:00:59.919920Z",
     "iopub.status.idle": "2022-04-19T09:35:38.748099Z",
     "shell.execute_reply": "2022-04-19T09:35:38.747083Z"
    },
    "papermill": {
     "duration": 2078.843868,
     "end_time": "2022-04-19T09:35:38.750600",
     "exception": false,
     "start_time": "2022-04-19T09:00:59.906732",
     "status": "completed"
    },
    "tags": []
   },
   "outputs": [
    {
     "name": "stdout",
     "output_type": "stream",
     "text": [
      "2021-12-06 00:00:00\n",
      "2021-12-07 00:00:00\n",
      "2021-12-08 00:00:00\n",
      "2021-12-09 00:00:00\n",
      "2021-12-10 00:00:00\n",
      "2021-12-13 00:00:00\n",
      "2021-12-14 00:00:00\n",
      "2021-12-15 00:00:00\n",
      "2021-12-16 00:00:00\n",
      "2021-12-17 00:00:00\n",
      "2021-12-20 00:00:00\n",
      "2021-12-21 00:00:00\n",
      "2021-12-22 00:00:00\n",
      "2021-12-23 00:00:00\n",
      "2021-12-24 00:00:00\n",
      "2021-12-27 00:00:00\n",
      "2021-12-28 00:00:00\n",
      "2021-12-29 00:00:00\n",
      "2021-12-30 00:00:00\n",
      "2022-01-04 00:00:00\n",
      "2022-01-05 00:00:00\n",
      "2022-01-06 00:00:00\n",
      "2022-01-07 00:00:00\n",
      "2022-01-11 00:00:00\n",
      "2022-01-12 00:00:00\n",
      "2022-01-13 00:00:00\n",
      "2022-01-14 00:00:00\n",
      "2022-01-17 00:00:00\n",
      "2022-01-18 00:00:00\n",
      "2022-01-19 00:00:00\n",
      "2022-01-20 00:00:00\n",
      "2022-01-21 00:00:00\n",
      "2022-01-24 00:00:00\n",
      "2022-01-25 00:00:00\n",
      "2022-01-26 00:00:00\n",
      "2022-01-27 00:00:00\n",
      "2022-01-28 00:00:00\n",
      "2022-01-31 00:00:00\n",
      "2022-02-01 00:00:00\n",
      "2022-02-02 00:00:00\n",
      "2022-02-03 00:00:00\n",
      "2022-02-04 00:00:00\n",
      "2022-02-07 00:00:00\n",
      "2022-02-08 00:00:00\n",
      "2022-02-09 00:00:00\n",
      "2022-02-10 00:00:00\n",
      "2022-02-14 00:00:00\n",
      "2022-02-15 00:00:00\n",
      "2022-02-16 00:00:00\n",
      "2022-02-17 00:00:00\n",
      "2022-02-18 00:00:00\n",
      "2022-02-21 00:00:00\n",
      "2022-02-22 00:00:00\n",
      "2022-02-24 00:00:00\n",
      "2022-02-25 00:00:00\n",
      "2022-02-28 00:00:00\n"
     ]
    }
   ],
   "source": [
    "# df = pd.read_pickle(\"hoge.pkl\")\n",
    "\n",
    "import random\n",
    "\n",
    "for i in li:\n",
    "    tmp = 12\n",
    "    print(i)\n",
    "    \n",
    "    min_num = 11.37637479\n",
    "    \n",
    "    while min_num <= tmp:\n",
    "        \n",
    "        r1 = random.randint(1, 1900)\n",
    "        r2 = random.randint(1, 1900)\n",
    "\n",
    "        hoge = df[df[\"Date\"]==i]\n",
    "\n",
    "        rank_1 = hoge[r1:r1+1]\n",
    "        r1_index = hoge[r1:r1+1].index[0]\n",
    "        rank_1 = rank_1[\"Rank\"].values[0]\n",
    "\n",
    "        rank_2 = hoge[r1+5:r1+6]\n",
    "        r2_index = hoge[r1+5:r1+6].index[0]\n",
    "        rank_2 = rank_2[\"Rank\"].values[0]\n",
    "\n",
    "        df.loc[r1_index,\"Rank\"] = rank_2\n",
    "        df.loc[r2_index,\"Rank\"] = rank_1\n",
    "        \n",
    "        tmp = calc_spread_return_per_day_2(df[df[\"Date\"]==i])\n",
    "#         print(tmp)\n",
    "\n",
    "# calc_spread_return_per_day_2(df[df[\"Date\"]==\"2021-12-06\"])"
   ]
  },
  {
   "cell_type": "code",
   "execution_count": 7,
   "id": "e5fced76",
   "metadata": {
    "execution": {
     "iopub.execute_input": "2022-04-19T09:35:38.816196Z",
     "iopub.status.busy": "2022-04-19T09:35:38.815810Z",
     "iopub.status.idle": "2022-04-19T09:35:38.977061Z",
     "shell.execute_reply": "2022-04-19T09:35:38.976082Z"
    },
    "papermill": {
     "duration": 0.196728,
     "end_time": "2022-04-19T09:35:38.979215",
     "exception": false,
     "start_time": "2022-04-19T09:35:38.782487",
     "status": "completed"
    },
    "tags": []
   },
   "outputs": [
    {
     "data": {
      "text/plain": [
       "11232.31062624659"
      ]
     },
     "execution_count": 7,
     "metadata": {},
     "output_type": "execute_result"
    }
   ],
   "source": [
    "calc_spread_return_sharpe(df)[0]"
   ]
  },
  {
   "cell_type": "code",
   "execution_count": 8,
   "id": "31ea472a",
   "metadata": {
    "execution": {
     "iopub.execute_input": "2022-04-19T09:35:39.047513Z",
     "iopub.status.busy": "2022-04-19T09:35:39.046929Z",
     "iopub.status.idle": "2022-04-19T09:35:39.345253Z",
     "shell.execute_reply": "2022-04-19T09:35:39.344213Z"
    },
    "papermill": {
     "duration": 0.334027,
     "end_time": "2022-04-19T09:35:39.347722",
     "exception": false,
     "start_time": "2022-04-19T09:35:39.013695",
     "status": "completed"
    },
    "tags": []
   },
   "outputs": [
    {
     "name": "stdout",
     "output_type": "stream",
     "text": [
      "This version of the API is not optimized and should not be used to estimate the runtime of your code on the hidden test set.\n"
     ]
    },
    {
     "data": {
      "text/html": [
       "<div>\n",
       "<style scoped>\n",
       "    .dataframe tbody tr th:only-of-type {\n",
       "        vertical-align: middle;\n",
       "    }\n",
       "\n",
       "    .dataframe tbody tr th {\n",
       "        vertical-align: top;\n",
       "    }\n",
       "\n",
       "    .dataframe thead th {\n",
       "        text-align: right;\n",
       "    }\n",
       "</style>\n",
       "<table border=\"1\" class=\"dataframe\">\n",
       "  <thead>\n",
       "    <tr style=\"text-align: right;\">\n",
       "      <th></th>\n",
       "      <th>Date</th>\n",
       "      <th>SecuritiesCode</th>\n",
       "      <th>Rank</th>\n",
       "    </tr>\n",
       "  </thead>\n",
       "  <tbody>\n",
       "    <tr>\n",
       "      <th>0</th>\n",
       "      <td>2021-12-06</td>\n",
       "      <td>1301</td>\n",
       "      <td>1409</td>\n",
       "    </tr>\n",
       "    <tr>\n",
       "      <th>1</th>\n",
       "      <td>2021-12-06</td>\n",
       "      <td>1332</td>\n",
       "      <td>1665</td>\n",
       "    </tr>\n",
       "    <tr>\n",
       "      <th>2</th>\n",
       "      <td>2021-12-06</td>\n",
       "      <td>1333</td>\n",
       "      <td>1692</td>\n",
       "    </tr>\n",
       "    <tr>\n",
       "      <th>3</th>\n",
       "      <td>2021-12-06</td>\n",
       "      <td>1375</td>\n",
       "      <td>1844</td>\n",
       "    </tr>\n",
       "    <tr>\n",
       "      <th>4</th>\n",
       "      <td>2021-12-06</td>\n",
       "      <td>1376</td>\n",
       "      <td>968</td>\n",
       "    </tr>\n",
       "    <tr>\n",
       "      <th>...</th>\n",
       "      <td>...</td>\n",
       "      <td>...</td>\n",
       "      <td>...</td>\n",
       "    </tr>\n",
       "    <tr>\n",
       "      <th>1995</th>\n",
       "      <td>2021-12-06</td>\n",
       "      <td>9990</td>\n",
       "      <td>644</td>\n",
       "    </tr>\n",
       "    <tr>\n",
       "      <th>1996</th>\n",
       "      <td>2021-12-06</td>\n",
       "      <td>9991</td>\n",
       "      <td>1111</td>\n",
       "    </tr>\n",
       "    <tr>\n",
       "      <th>1997</th>\n",
       "      <td>2021-12-06</td>\n",
       "      <td>9993</td>\n",
       "      <td>536</td>\n",
       "    </tr>\n",
       "    <tr>\n",
       "      <th>1998</th>\n",
       "      <td>2021-12-06</td>\n",
       "      <td>9994</td>\n",
       "      <td>1256</td>\n",
       "    </tr>\n",
       "    <tr>\n",
       "      <th>1999</th>\n",
       "      <td>2021-12-06</td>\n",
       "      <td>9997</td>\n",
       "      <td>13</td>\n",
       "    </tr>\n",
       "  </tbody>\n",
       "</table>\n",
       "<p>2000 rows × 3 columns</p>\n",
       "</div>"
      ],
      "text/plain": [
       "            Date  SecuritiesCode  Rank\n",
       "0     2021-12-06            1301  1409\n",
       "1     2021-12-06            1332  1665\n",
       "2     2021-12-06            1333  1692\n",
       "3     2021-12-06            1375  1844\n",
       "4     2021-12-06            1376   968\n",
       "...          ...             ...   ...\n",
       "1995  2021-12-06            9990   644\n",
       "1996  2021-12-06            9991  1111\n",
       "1997  2021-12-06            9993   536\n",
       "1998  2021-12-06            9994  1256\n",
       "1999  2021-12-06            9997    13\n",
       "\n",
       "[2000 rows x 3 columns]"
      ]
     },
     "metadata": {},
     "output_type": "display_data"
    },
    {
     "data": {
      "text/html": [
       "<div>\n",
       "<style scoped>\n",
       "    .dataframe tbody tr th:only-of-type {\n",
       "        vertical-align: middle;\n",
       "    }\n",
       "\n",
       "    .dataframe tbody tr th {\n",
       "        vertical-align: top;\n",
       "    }\n",
       "\n",
       "    .dataframe thead th {\n",
       "        text-align: right;\n",
       "    }\n",
       "</style>\n",
       "<table border=\"1\" class=\"dataframe\">\n",
       "  <thead>\n",
       "    <tr style=\"text-align: right;\">\n",
       "      <th></th>\n",
       "      <th>Date</th>\n",
       "      <th>SecuritiesCode</th>\n",
       "      <th>Rank</th>\n",
       "    </tr>\n",
       "  </thead>\n",
       "  <tbody>\n",
       "    <tr>\n",
       "      <th>0</th>\n",
       "      <td>2021-12-07</td>\n",
       "      <td>1301</td>\n",
       "      <td>219</td>\n",
       "    </tr>\n",
       "    <tr>\n",
       "      <th>1</th>\n",
       "      <td>2021-12-07</td>\n",
       "      <td>1332</td>\n",
       "      <td>1777</td>\n",
       "    </tr>\n",
       "    <tr>\n",
       "      <th>2</th>\n",
       "      <td>2021-12-07</td>\n",
       "      <td>1333</td>\n",
       "      <td>1276</td>\n",
       "    </tr>\n",
       "    <tr>\n",
       "      <th>3</th>\n",
       "      <td>2021-12-07</td>\n",
       "      <td>1375</td>\n",
       "      <td>1079</td>\n",
       "    </tr>\n",
       "    <tr>\n",
       "      <th>4</th>\n",
       "      <td>2021-12-07</td>\n",
       "      <td>1376</td>\n",
       "      <td>426</td>\n",
       "    </tr>\n",
       "    <tr>\n",
       "      <th>...</th>\n",
       "      <td>...</td>\n",
       "      <td>...</td>\n",
       "      <td>...</td>\n",
       "    </tr>\n",
       "    <tr>\n",
       "      <th>1995</th>\n",
       "      <td>2021-12-07</td>\n",
       "      <td>9990</td>\n",
       "      <td>371</td>\n",
       "    </tr>\n",
       "    <tr>\n",
       "      <th>1996</th>\n",
       "      <td>2021-12-07</td>\n",
       "      <td>9991</td>\n",
       "      <td>751</td>\n",
       "    </tr>\n",
       "    <tr>\n",
       "      <th>1997</th>\n",
       "      <td>2021-12-07</td>\n",
       "      <td>9993</td>\n",
       "      <td>354</td>\n",
       "    </tr>\n",
       "    <tr>\n",
       "      <th>1998</th>\n",
       "      <td>2021-12-07</td>\n",
       "      <td>9994</td>\n",
       "      <td>744</td>\n",
       "    </tr>\n",
       "    <tr>\n",
       "      <th>1999</th>\n",
       "      <td>2021-12-07</td>\n",
       "      <td>9997</td>\n",
       "      <td>1661</td>\n",
       "    </tr>\n",
       "  </tbody>\n",
       "</table>\n",
       "<p>2000 rows × 3 columns</p>\n",
       "</div>"
      ],
      "text/plain": [
       "            Date  SecuritiesCode  Rank\n",
       "0     2021-12-07            1301   219\n",
       "1     2021-12-07            1332  1777\n",
       "2     2021-12-07            1333  1276\n",
       "3     2021-12-07            1375  1079\n",
       "4     2021-12-07            1376   426\n",
       "...          ...             ...   ...\n",
       "1995  2021-12-07            9990   371\n",
       "1996  2021-12-07            9991   751\n",
       "1997  2021-12-07            9993   354\n",
       "1998  2021-12-07            9994   744\n",
       "1999  2021-12-07            9997  1661\n",
       "\n",
       "[2000 rows x 3 columns]"
      ]
     },
     "metadata": {},
     "output_type": "display_data"
    }
   ],
   "source": [
    "import jpx_tokyo_market_prediction\n",
    "env = jpx_tokyo_market_prediction.make_env()\n",
    "iter_test = env.iter_test()\n",
    "for prices, _, _, _, _, sample_prediction in iter_test:\n",
    "    ff = df[df['Date']==prices[\"Date\"].iloc[0]]\n",
    "    mp = ff.set_index(\"SecuritiesCode\")[\"Rank\"]\n",
    "    sample_prediction[\"Rank\"] = sample_prediction.SecuritiesCode.map(mp)\n",
    "    env.predict(sample_prediction)\n",
    "    display(sample_prediction)"
   ]
  },
  {
   "cell_type": "code",
   "execution_count": null,
   "id": "fbdd4100",
   "metadata": {
    "papermill": {
     "duration": 0.035408,
     "end_time": "2022-04-19T09:35:39.418114",
     "exception": false,
     "start_time": "2022-04-19T09:35:39.382706",
     "status": "completed"
    },
    "tags": []
   },
   "outputs": [],
   "source": []
  }
 ],
 "metadata": {
  "kernelspec": {
   "display_name": "Python 3",
   "language": "python",
   "name": "python3"
  },
  "language_info": {
   "codemirror_mode": {
    "name": "ipython",
    "version": 3
   },
   "file_extension": ".py",
   "mimetype": "text/x-python",
   "name": "python",
   "nbconvert_exporter": "python",
   "pygments_lexer": "ipython3",
   "version": "3.7.12"
  },
  "papermill": {
   "default_parameters": {},
   "duration": 2224.646652,
   "end_time": "2022-04-19T09:35:40.381855",
   "environment_variables": {},
   "exception": null,
   "input_path": "__notebook__.ipynb",
   "output_path": "__notebook__.ipynb",
   "parameters": {},
   "start_time": "2022-04-19T08:58:35.735203",
   "version": "2.3.4"
  }
 },
 "nbformat": 4,
 "nbformat_minor": 5
}
